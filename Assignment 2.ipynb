{
 "cells": [
  {
   "cell_type": "markdown",
   "metadata": {},
   "source": [
    "### Assignment- Week 2"
   ]
  },
  {
   "cell_type": "markdown",
   "metadata": {},
   "source": [
    "## List Comprehensions\n",
    "> ***What is list comprehnsions and its uses?***\n",
    "\n",
    ">  List comprehensions is used to construct lists in a very easy way, like a mathematician is used to do. It consists of brakcets containing an expression follwed by a for clause, then zeor or more for or if clauses. The expresions can be anything, meaning you can put in all kinds of object in lists.\n",
    "\n",
    "> The list comprehension always returns a result list."
   ]
  },
  {
   "cell_type": "markdown",
   "metadata": {},
   "source": [
    " ### Example of list comprehensions"
   ]
  },
  {
   "cell_type": "markdown",
   "metadata": {},
   "source": [
    " *** Example #1 ***"
   ]
  },
  {
   "cell_type": "code",
   "execution_count": 4,
   "metadata": {},
   "outputs": [
    {
     "name": "stdout",
     "output_type": "stream",
     "text": [
      "['This', 'is', 'a', 'sample', 'of', 'list', 'comprehensions.']\n"
     ]
    }
   ],
   "source": [
    "sentence = [\"This\", \"is\", \"a\", \"sample\", \"of\", \"list\", \"comprehensions.\"]\n",
    "words = [word[:] for word in sentence ]\n",
    "print(words)"
   ]
  },
  {
   "cell_type": "markdown",
   "metadata": {},
   "source": [
    "***Example #2***"
   ]
  },
  {
   "cell_type": "code",
   "execution_count": 7,
   "metadata": {},
   "outputs": [
    {
     "name": "stdout",
     "output_type": "stream",
     "text": [
      "[1, 2, 4, 8, 16, 32, 64, 128, 256, 512, 1024, 2048, 4096, 8192, 16384]\n"
     ]
    }
   ],
   "source": [
    "number = [2**i for i in range(15)]\n",
    "print(number)"
   ]
  },
  {
   "cell_type": "code",
   "execution_count": 28,
   "metadata": {},
   "outputs": [
    {
     "name": "stdout",
     "output_type": "stream",
     "text": [
      "40\n",
      "[0, 2, 4, 6, 8, 10, 12, 14, 16, 18]\n",
      "[0, 4, 8, 12, 16]\n",
      "[21, 31, 41, 51, 25, 35, 45, 55, 30, 40, 50, 60, 35, 45, 55, 65]\n"
     ]
    }
   ],
   "source": [
    "def number(x):\n",
    "    return x*2\n",
    "\n",
    "x = number(20)\n",
    "print(x)\n",
    "\n",
    "data = [number(i) for i in range(10)]\n",
    "print(data)\n",
    "\n",
    "# lets add few more conditions\n",
    "data = [number(i) for i in range(10) if i%2==0]\n",
    "print(data)\n",
    "\n",
    "data=[x+y for x in [1,5,10,15] for y in [20, 30, 40, 50]]\n",
    "print(data)"
   ]
  },
  {
   "cell_type": "markdown",
   "metadata": {},
   "source": [
    "### Dictionary\n",
    "> Unlike list datatype in python dictionary is based on key and value. _Each key is seperated from its value by a colon(:), the items are seperated by commans, and the whole data is enclosed in curly brackets._\n",
    "\n",
    "> Keys are unique within a dictionary while values may not be. The values of a dictionary can be of any type, but the key must be of an immutable data type such as string, numbers or tuples.\n"
   ]
  },
  {
   "cell_type": "markdown",
   "metadata": {},
   "source": [
    "- **Creating dictionary**"
   ]
  },
  {
   "cell_type": "code",
   "execution_count": 30,
   "metadata": {},
   "outputs": [
    {
     "name": "stdout",
     "output_type": "stream",
     "text": [
      "IS362\n"
     ]
    }
   ],
   "source": [
    "dict = {'class':'IS362','assignment':'Week 2', 'user': 'praveen'}\n",
    "print(dict['class'])"
   ]
  },
  {
   "cell_type": "code",
   "execution_count": 39,
   "metadata": {},
   "outputs": [
    {
     "name": "stdout",
     "output_type": "stream",
     "text": [
      "praveen : IS362\n"
     ]
    }
   ],
   "source": [
    "print(dict['user'],\":\", dict['class'])"
   ]
  },
  {
   "cell_type": "markdown",
   "metadata": {},
   "source": [
    "- **Update dictionary**"
   ]
  },
  {
   "cell_type": "code",
   "execution_count": 48,
   "metadata": {},
   "outputs": [
    {
     "name": "stdout",
     "output_type": "stream",
     "text": [
      "{'class': 'IS362', 'assignment': 'Week 2', 'user': 'praveen', 'school': 'CUNY SPS'}\n"
     ]
    }
   ],
   "source": [
    "dict['school'] = \"CUNY SPS\"\n",
    "print(dict)"
   ]
  }
 ],
 "metadata": {
  "kernelspec": {
   "display_name": "Python 3",
   "language": "python",
   "name": "python3"
  },
  "language_info": {
   "codemirror_mode": {
    "name": "ipython",
    "version": 3
   },
   "file_extension": ".py",
   "mimetype": "text/x-python",
   "name": "python",
   "nbconvert_exporter": "python",
   "pygments_lexer": "ipython3",
   "version": "3.6.2"
  }
 },
 "nbformat": 4,
 "nbformat_minor": 2
}
